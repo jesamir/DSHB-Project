{
 "cells": [
  {
   "cell_type": "code",
   "execution_count": 6,
   "metadata": {},
   "outputs": [
    {
     "name": "stdout",
     "output_type": "stream",
     "text": [
      "Conversion complete: .dta goes into .csv\n"
     ]
    }
   ],
   "source": [
    "import pandas as pd\n",
    "df_2023 = pd.read_stata(\"nsch_2023e_topical.dta\")\n",
    "\n",
    "df_2023 = df_2023.iloc[:, 5:]\n",
    "\n",
    "df_2016 = pd.read_stata(\"nsch_2016e_topical.dta\")\n",
    "\n",
    "df_2016 = df_2016.iloc[:, 5:]\n",
    "\n",
    "#df_2016.columns = df_2023.columns \n",
    "\n",
    "df_combined = pd.concat([df_2023, df_2016], ignore_index=True)\n",
    "\n",
    "df_combined.to_csv(\"combo_data.csv\", index=False)\n",
    "\n",
    "print(\"Conversion complete: .dta goes into .csv\")\n"
   ]
  },
  {
   "cell_type": "code",
   "execution_count": 7,
   "metadata": {},
   "outputs": [],
   "source": [
    "df = pd.read_csv(\"combo_data.csv\")\n",
    "df_cleaned = df.dropna()\n",
    "df_cleaned.to_csv(\"combo_data.csv\", index=False) #updating the combo data"
   ]
  }
 ],
 "metadata": {
  "kernelspec": {
   "display_name": "base",
   "language": "python",
   "name": "python3"
  },
  "language_info": {
   "codemirror_mode": {
    "name": "ipython",
    "version": 3
   },
   "file_extension": ".py",
   "mimetype": "text/x-python",
   "name": "python",
   "nbconvert_exporter": "python",
   "pygments_lexer": "ipython3",
   "version": "3.11.7"
  }
 },
 "nbformat": 4,
 "nbformat_minor": 2
}
